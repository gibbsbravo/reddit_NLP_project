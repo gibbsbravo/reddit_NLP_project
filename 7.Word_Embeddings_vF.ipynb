{
 "cells": [
  {
   "cell_type": "code",
   "execution_count": 191,
   "metadata": {},
   "outputs": [
    {
     "name": "stdout",
     "output_type": "stream",
     "text": [
      "C:\\Users\\AGB\\Desktop\\WeCloud_Materials\\Project\\Subreddit_Comments\n"
     ]
    }
   ],
   "source": [
    "import os\n",
    "os.chdir('C:/Users/AGB/Desktop/WeCloud_Materials/Project/Subreddit_Comments')\n",
    "print(os.getcwd())\n",
    "\n",
    "import numpy as np\n",
    "import pandas as pd\n",
    "import matplotlib.pyplot as plt\n",
    "%matplotlib inline\n",
    "\n",
    "import nltk\n",
    "import re"
   ]
  },
  {
   "cell_type": "code",
   "execution_count": 192,
   "metadata": {},
   "outputs": [
    {
     "data": {
      "text/plain": [
       "Libertarian            0.472729\n",
       "LateStageCapitalism    0.237279\n",
       "Conservative           0.228904\n",
       "Anarchism              0.061087\n",
       "Name: subreddit, dtype: float64"
      ]
     },
     "execution_count": 192,
     "metadata": {},
     "output_type": "execute_result"
    }
   ],
   "source": [
    "# Select applicable subreddits which have been preprocessed\n",
    "subreddits = ['Anarchism','Conservative','LateStageCapitalism','Libertarian']\n",
    "\n",
    "df = pd.DataFrame([])\n",
    "\n",
    "for i in subreddits: \n",
    "    tempdf = pd.read_csv(i+'_processed_comments.csv')\n",
    "    tempdf['subreddit'] = i\n",
    "    df = pd.concat([df,tempdf])\n",
    "\n",
    "#df = df.sample(frac=0.3, random_state=10)\n",
    "df.reset_index(drop=True,inplace=True)\n",
    "df['subreddit'].value_counts()/len(df)"
   ]
  },
  {
   "cell_type": "code",
   "execution_count": 193,
   "metadata": {},
   "outputs": [],
   "source": [
    "from ast import literal_eval\n",
    "\n",
    "# Map main subreddits to political orientation to train word2vec model\n",
    "political_map = {'Libertarian':'Conservative','Conservative':'Conservative',\n",
    "                'LateStageCapitalism':'Liberal','Anarchism':'Liberal'}\n",
    "\n",
    "df['subreddit'] = df['subreddit'].map(political_map) \n",
    "\n",
    "tokens = [] \n",
    "\n",
    "for i in range(len(df['tokens'])):\n",
    "    tokens.append(literal_eval(df['tokens'][i]))\n",
    "\n",
    "df['tokens'] = tokens"
   ]
  },
  {
   "cell_type": "code",
   "execution_count": 194,
   "metadata": {},
   "outputs": [
    {
     "name": "stdout",
     "output_type": "stream",
     "text": [
      "Conservative Model Trained on 127.3k comments: Word2Vec(vocab=37295, size=50, alpha=0.025)\n",
      "Liberal Model Trained on 54.15k comments: Word2Vec(vocab=26745, size=50, alpha=0.025)\n"
     ]
    }
   ],
   "source": [
    "from gensim.models import Word2Vec\n",
    "# Define training data\n",
    "conservative_sentences = df['tokens'][df['subreddit']=='Conservative']\n",
    "liberal_sentences = df['tokens'][df['subreddit']=='Liberal']\n",
    "\n",
    "# Train model\n",
    "conservative_model = Word2Vec(conservative_sentences, size=50, window=5, min_count=2, workers=4, sg=0)\n",
    "print('Conservative Model Trained on {:.4}k comments: {}'.format(len(conservative_sentences)/1e3,conservative_model))\n",
    "\n",
    "liberal_model = Word2Vec(liberal_sentences, size=50, window=5, min_count=2, workers=4, sg=0)\n",
    "print('Liberal Model Trained on {:.4}k comments: {}'.format(len(liberal_sentences)/1e3,liberal_model))\n",
    "\n",
    "# Save model\n",
    "conservative_model.save('conservative_model')\n",
    "liberal_model.save('liberal_model')"
   ]
  },
  {
   "cell_type": "code",
   "execution_count": 195,
   "metadata": {},
   "outputs": [],
   "source": [
    "# Load trained model\n",
    "conservative_model = Word2Vec.load('conservative_model')\n",
    "liberal_model = Word2Vec.load('liberal_model')\n",
    "\n",
    "# Determine most similar words\n",
    "similarity_terms = ['donald','trump','clinton','obama','russia','FBI','alt-right','republican','rnc','democrat','dnc','left','right','guns',\n",
    "         'media','news','fox','CNN','new york times','huffington','ABC','CBS',\n",
    "        'antifa','anarchy','libertarian','communist','jews','gay','trans','black','white','asian','southern']\n",
    "n_terms = 10\n",
    "\n",
    "# Find most similar terms for term in specified list above\n",
    "conservative_terms = []\n",
    "liberal_terms = []\n",
    "\n",
    "top_n_cols = ['Top_'+str(x+1) for x in range(n_terms)]\n",
    "\n",
    "for term in similarity_terms:\n",
    "    try:\n",
    "        conservative_terms.append(np.transpose(conservative_model.wv.most_similar(term, topn=n_terms))[0])\n",
    "        liberal_terms.append(np.transpose(liberal_model.wv.most_similar(term, topn=n_terms))[0])\n",
    "    except:\n",
    "        conservative_terms.append(np.full(n_terms, np.nan))\n",
    "        liberal_terms.append(np.full(n_terms, np.nan))\n",
    "    \n",
    "conservative_terms = pd.DataFrame(conservative_terms,columns= top_n_cols)\n",
    "conservative_terms.insert(0,'terms',similarity_terms)\n",
    "conservative_terms.insert(0,'subreddit','Conservative')\n",
    "\n",
    "liberal_terms = pd.DataFrame(liberal_terms,columns= top_n_cols)\n",
    "liberal_terms.insert(0,'terms',similarity_terms)\n",
    "liberal_terms.insert(0,'subreddit','Liberal')\n",
    "\n",
    "word_embedding_df = pd.concat([conservative_terms,liberal_terms])\n",
    "word_embedding_df.reset_index(drop=True,inplace=True)"
   ]
  },
  {
   "cell_type": "code",
   "execution_count": 196,
   "metadata": {},
   "outputs": [
    {
     "name": "stdout",
     "output_type": "stream",
     "text": [
      "Top Conservative Terms Similar to  hitler : ['mao' 'stalin' 'antifa' 'nazi' 'charlottesville' 'fascist' 'spencer'\n",
      " 'adolf' 'fascists' 'nationalist']\n",
      "\n",
      "Top Liberal Terms Similar to  hitler : ['christian' 'thatcher' 'popular' 'reagan' 'atheist' 'presidents'\n",
      " 'holocaust' 'paul' 'jew' 'freaked']\n"
     ]
    }
   ],
   "source": [
    "key_term = 'hitler'\n",
    "\n",
    "# Examine similar terms by trained Word2Vec models on both conservative and liberal corpora\n",
    "if key_term in similarity_terms:\n",
    "    display(word_embedding_df[word_embedding_df['terms']==key_term])\n",
    "else:\n",
    "    print(\"Top Conservative Terms Similar to \",key_term,\":\",np.transpose(conservative_model.wv.most_similar(key_term, topn=n_terms))[0])\n",
    "    print()\n",
    "    print(\"Top Liberal Terms Similar to \",key_term,\":\",np.transpose(liberal_model.wv.most_similar(key_term, topn=n_terms))[0])"
   ]
  },
  {
   "cell_type": "code",
   "execution_count": 197,
   "metadata": {},
   "outputs": [
    {
     "name": "stdout",
     "output_type": "stream",
     "text": [
      "[('-lolbertarian', 0.7825086712837219)]\n",
      "[('leftist', 0.944356381893158)]\n"
     ]
    }
   ],
   "source": [
    "# Word vector addition/subtraction with key terms\n",
    "positive = ['trump','anarchist']\n",
    "negative = []\n",
    "\n",
    "print(conservative_model.wv.most_similar(positive = positive, negative = negative, topn=1))\n",
    "print(liberal_model.wv.most_similar(positive = positive, negative = negative, topn=1))"
   ]
  },
  {
   "cell_type": "code",
   "execution_count": null,
   "metadata": {},
   "outputs": [],
   "source": []
  }
 ],
 "metadata": {
  "kernelspec": {
   "display_name": "Python 3",
   "language": "python",
   "name": "python3"
  },
  "language_info": {
   "codemirror_mode": {
    "name": "ipython",
    "version": 3
   },
   "file_extension": ".py",
   "mimetype": "text/x-python",
   "name": "python",
   "nbconvert_exporter": "python",
   "pygments_lexer": "ipython3",
   "version": "3.6.5"
  }
 },
 "nbformat": 4,
 "nbformat_minor": 2
}
