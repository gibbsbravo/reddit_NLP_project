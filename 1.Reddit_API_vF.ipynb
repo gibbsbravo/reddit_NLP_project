{
 "cells": [
  {
   "cell_type": "code",
   "execution_count": 3,
   "metadata": {},
   "outputs": [],
   "source": [
    "import numpy as np\n",
    "import pandas as pd\n",
    "import os\n",
    "import requests"
   ]
  },
  {
   "cell_type": "markdown",
   "metadata": {},
   "source": [
    "## Validate Credentials"
   ]
  },
  {
   "cell_type": "code",
   "execution_count": null,
   "metadata": {},
   "outputs": [],
   "source": [
    "# Credentials for Reddit PRAW API (redacted)\n",
    "\n",
    "import praw\n",
    "r = praw.Reddit(client_id='YOUR_ID',\n",
    "                     client_secret='YOUR_SECRET',\n",
    "                     password='YOUR_PASSWORD',\n",
    "                     user_agent='YOUR_AGENT',\n",
    "                     username='YOUR_USERNAME')"
   ]
  },
  {
   "cell_type": "code",
   "execution_count": 4,
   "metadata": {},
   "outputs": [
    {
     "name": "stdout",
     "output_type": "stream",
     "text": [
      "notabot789\n"
     ]
    }
   ],
   "source": [
    "print(r.user.me())"
   ]
  },
  {
   "cell_type": "markdown",
   "metadata": {},
   "source": [
    "## API Calls for Submissions and Comments"
   ]
  },
  {
   "cell_type": "code",
   "execution_count": 6,
   "metadata": {},
   "outputs": [
    {
     "name": "stdout",
     "output_type": "stream",
     "text": [
      "Subreddit: SandersForPresident\n",
      "Number of Submissions: 997\n",
      "Subreddit: socialism\n",
      "Number of Submissions: 995\n",
      "Subreddit: Anarchism\n",
      "Number of Submissions: 998\n",
      "Subreddit: democrats\n",
      "Number of Submissions: 999\n",
      "Subreddit: Progressive\n",
      "Number of Submissions: 1000\n",
      "Subreddit: communism\n",
      "Number of Submissions: 1000\n",
      "Subreddit: Liberal\n",
      "Number of Submissions: 1000\n",
      "Subreddit: LateStageCapitalism\n",
      "Number of Submissions: 990\n",
      "Subreddit: The_Donald\n",
      "Number of Submissions: 1000\n",
      "Subreddit: Libertarian\n",
      "Number of Submissions: 997\n",
      "Subreddit: Conservative\n",
      "Number of Submissions: 1000\n",
      "Subreddit: Republican\n",
      "Number of Submissions: 1000\n",
      "Subreddit: Anarcho_Capitalism\n",
      "Number of Submissions: 1000\n",
      "Subreddit: politics\n",
      "Number of Submissions: 999\n",
      "Subreddit: NeutralPolitics\n",
      "Number of Submissions: 1000\n"
     ]
    }
   ],
   "source": [
    "# Pulls submissions and URLs and exports into CSV\n",
    "subreddits = ['SandersForPresident','socialism','Anarchism','democrats','Progressive','communism','Liberal','LateStageCapitalism',\n",
    "              'The_Donald','Libertarian','Conservative','Republican','Anarcho_Capitalism',\n",
    "             'politics','NeutralPolitics']\n",
    "\n",
    "# Maximum number of submissions set at 1,000\n",
    "sublimit = 1000\n",
    "\n",
    "for i in subreddits:\n",
    "    ids = []\n",
    "    sub = []\n",
    "    url = []\n",
    "    s_score = []\n",
    "\n",
    "    for submission in r.subreddit(i).top(limit=sublimit):\n",
    "        ids.append(submission.id)\n",
    "        sub.append(submission.title)\n",
    "        url.append(submission.url)\n",
    "        s_score.append(submission.score)\n",
    "\n",
    "    print('Subreddit:',i)\n",
    "    print('Number of Submissions:',len(sub))\n",
    "\n",
    "    # Export submissions\n",
    "    submissions = pd.DataFrame({'id':ids,'title':sub,'url':url,'score':s_score})\n",
    "    sub_title = i+'_submissions.csv'\n",
    "    submissions.to_csv(sub_title,index=False)\n"
   ]
  },
  {
   "cell_type": "markdown",
   "metadata": {},
   "source": [
    "# Comments"
   ]
  },
  {
   "cell_type": "code",
   "execution_count": 6,
   "metadata": {},
   "outputs": [],
   "source": [
    "# Pulls comments and exports into CSV\n",
    "\n",
    "# Number of top submissions (subject to 'more comment' limit specified below)\n",
    "comlimit = 1000\n",
    "\n",
    "for i in subreddits:\n",
    "    author = []\n",
    "    comm = []\n",
    "    c_score = []\n",
    "\n",
    "    for submission in r.subreddit(i).top(limit=comlimit):\n",
    "        submission.comments.replace_more(limit=0)\n",
    "        for top_level_comment in submission.comments:\n",
    "            author.append(top_level_comment.author)\n",
    "            comm.append(top_level_comment.body)\n",
    "            c_score.append(top_level_comment.score)\n",
    "\n",
    "    print('Number of Comments from {} Submissions: {}'.format(comlimit,len(comm)))\n",
    "            \n",
    "    # Export comments\n",
    "    comments = pd.DataFrame({'author':author,'comment':comm,'score':c_score})\n",
    "    comm_title = i+'_comments.csv'\n",
    "    comments.to_csv(comm_title,index=False)"
   ]
  },
  {
   "cell_type": "code",
   "execution_count": null,
   "metadata": {},
   "outputs": [],
   "source": []
  }
 ],
 "metadata": {
  "kernelspec": {
   "display_name": "Python 3",
   "language": "python",
   "name": "python3"
  },
  "language_info": {
   "codemirror_mode": {
    "name": "ipython",
    "version": 3
   },
   "file_extension": ".py",
   "mimetype": "text/x-python",
   "name": "python",
   "nbconvert_exporter": "python",
   "pygments_lexer": "ipython3",
   "version": "3.6.5"
  }
 },
 "nbformat": 4,
 "nbformat_minor": 2
}
